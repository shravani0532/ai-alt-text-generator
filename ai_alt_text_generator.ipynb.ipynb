{
 "cells": [
  {
   "cell_type": "code",
   "execution_count": 21,
   "id": "7cd8561e-6d49-4ef5-a786-2e9b14ddc684",
   "metadata": {},
   "outputs": [
    {
     "name": "stdout",
     "output_type": "stream",
     "text": [
      "✅ Alt-text generation complete!\n"
     ]
    }
   ],
   "source": [
    "import os\n",
    "import pandas as pd\n",
    "import uuid\n",
    "\n",
    "# Paths\n",
    "image_folder = 'images'\n",
    "keywords_file = 'product_keywords.csv'\n",
    "output_csv = 'ai_alt_text_report.csv'\n",
    "\n",
    "# Load keywords\n",
    "keywords_df = pd.read_csv(keywords_file)\n",
    "keywords = keywords_df['keyword'].tolist()\n",
    "\n",
    "# Generate alt-texts\n",
    "data = []\n",
    "for i, filename in enumerate(os.listdir(image_folder)):\n",
    "    if filename.lower().endswith(('.jpg', '.jpeg', '.png')):\n",
    "        keyword = keywords[i % len(keywords)]\n",
    "        seo_name = keyword.lower().replace(' ', '-') + '-' + str(uuid.uuid4())[:6] + os.path.splitext(filename)[-1]\n",
    "        alt_text = f\"High quality photo of a {keyword} for modern shoppers.\"\n",
    "        data.append([filename, seo_name, alt_text])\n",
    "\n",
    "# Save report\n",
    "df = pd.DataFrame(data, columns=['original_name', 'seo_filename', 'alt_text'])\n",
    "df.to_csv(output_csv, index=False)\n",
    "print('✅ Alt-text generation complete!')\n"
   ]
  },
  {
   "cell_type": "code",
   "execution_count": null,
   "id": "7ec3284f-f78d-4613-941c-34d34443f619",
   "metadata": {},
   "outputs": [],
   "source": []
  }
 ],
 "metadata": {
  "kernelspec": {
   "display_name": "Python [conda env:base] *",
   "language": "python",
   "name": "conda-base-py"
  },
  "language_info": {
   "codemirror_mode": {
    "name": "ipython",
    "version": 3
   },
   "file_extension": ".py",
   "mimetype": "text/x-python",
   "name": "python",
   "nbconvert_exporter": "python",
   "pygments_lexer": "ipython3",
   "version": "3.13.5"
  }
 },
 "nbformat": 4,
 "nbformat_minor": 5
}
